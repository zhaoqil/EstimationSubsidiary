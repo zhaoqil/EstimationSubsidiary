{
 "cells": [
  {
   "cell_type": "code",
   "execution_count": 9,
   "id": "a4ae89c8",
   "metadata": {},
   "outputs": [],
   "source": [
    "import numpy as np\n",
    "import matplotlib.pyplot as plt\n",
    "from scipy.stats import norm\n",
    "from sim import simulation"
   ]
  },
  {
   "cell_type": "code",
   "execution_count": 10,
   "id": "8d98ae72",
   "metadata": {},
   "outputs": [
    {
     "name": "stdout",
     "output_type": "stream",
     "text": [
      "The autoreload extension is already loaded. To reload it, use:\n",
      "  %reload_ext autoreload\n"
     ]
    }
   ],
   "source": [
    "%load_ext autoreload\n",
    "%autoreload 2"
   ]
  },
  {
   "cell_type": "markdown",
   "id": "4d1d5e2c",
   "metadata": {},
   "source": [
    "## Simulate some data for demo"
   ]
  },
  {
   "cell_type": "code",
   "execution_count": 11,
   "id": "3ea03488",
   "metadata": {},
   "outputs": [],
   "source": [
    "def p_Y(A, X):\n",
    "    # conditional distribution of Y|A,X\n",
    "    return np.random.normal(loc=X*A, scale=0.25)\n",
    "\n",
    "def p_Z(A, X):\n",
    "    # conditional distribution of Z|A,X\n",
    "    return np.random.normal(loc=np.sqrt((X-0.1)*A*(X>=0.1))-np.sqrt((-X-0.1)*(X<=-0.1))*A, scale=0.25)\n",
    "\n",
    "\n",
    "# the optimal policy\n",
    "def d_anal(x, p_Y):\n",
    "    return (p_Y(1, x) - p_Y(0, x) >= 0)\n",
    "\n",
    "N = 1000\n",
    "X = np.random.uniform(-1, 1, N) # uniform\n",
    "A = np.random.binomial(1, 0.5+0.1*X) # distribution for A|X - allow for vector representations\n",
    "Z = p_Z(d_anal(X, p_Z), X)\n",
    "Y = p_Y(d_anal(X, p_Y), X)"
   ]
  },
  {
   "cell_type": "markdown",
   "id": "95e98e0b",
   "metadata": {},
   "source": [
    "## run the simulation"
   ]
  },
  {
   "cell_type": "code",
   "execution_count": 17,
   "id": "7db3628b",
   "metadata": {},
   "outputs": [
    {
     "name": "stderr",
     "output_type": "stream",
     "text": [
      "2023-08-08 08:00:21,421\tINFO worker.py:1636 -- Started a local Ray instance.\n"
     ]
    },
    {
     "name": "stdout",
     "output_type": "stream",
     "text": [
      "\u001b[2m\u001b[36m(worker pid=2225278)\u001b[0m running one iteration for task 3: 0.04611921310424805\n",
      "Running method os."
     ]
    },
    {
     "name": "stderr",
     "output_type": "stream",
     "text": [
      "2023-08-08 08:00:28,103\tINFO worker.py:1636 -- Started a local Ray instance.\n"
     ]
    },
    {
     "name": "stdout",
     "output_type": "stream",
     "text": [
      "\u001b[2m\u001b[36m(worker pid=2227281)\u001b[0m ray running time:  4.47353720664978\n"
     ]
    },
    {
     "name": "stderr",
     "output_type": "stream",
     "text": [
      "\u001b[2m\u001b[33m(raylet)\u001b[0m [2023-08-08 08:00:38,015 E 2227148 2227161] (raylet) file_system_monitor.cc:111: /tmp/ray/session_2023-08-08_08-00-26_283047_2202087 is over 95% full, available space: 17250885632; capacity: 502467059712. Object creation will fail if spilling is required.\n"
     ]
    },
    {
     "name": "stdout",
     "output_type": "stream",
     "text": [
      "\u001b[2m\u001b[36m(worker pid=2227251)\u001b[0m ray running time:  11.18195629119873\u001b[32m [repeated 4x across cluster]\u001b[0m\n",
      "\u001b[2m\u001b[36m(worker pid=2227274)\u001b[0m ray running time:  16.269855976104736\u001b[32m [repeated 3x across cluster]\u001b[0m\n"
     ]
    },
    {
     "name": "stderr",
     "output_type": "stream",
     "text": [
      "\u001b[2m\u001b[33m(raylet)\u001b[0m [2023-08-08 08:00:48,052 E 2227148 2227161] (raylet) file_system_monitor.cc:111: /tmp/ray/session_2023-08-08_08-00-26_283047_2202087 is over 95% full, available space: 17250672640; capacity: 502467059712. Object creation will fail if spilling is required.\n",
      "\u001b[2m\u001b[33m(raylet)\u001b[0m [2023-08-08 08:00:58,063 E 2227148 2227161] (raylet) file_system_monitor.cc:111: /tmp/ray/session_2023-08-08_08-00-26_283047_2202087 is over 95% full, available space: 17250525184; capacity: 502467059712. Object creation will fail if spilling is required.\n",
      "\u001b[2m\u001b[33m(raylet)\u001b[0m [2023-08-08 08:01:08,074 E 2227148 2227161] (raylet) file_system_monitor.cc:111: /tmp/ray/session_2023-08-08_08-00-26_283047_2202087 is over 95% full, available space: 17250291712; capacity: 502467059712. Object creation will fail if spilling is required.\n"
     ]
    },
    {
     "name": "stdout",
     "output_type": "stream",
     "text": [
      "\u001b[2m\u001b[36m(worker pid=2227281)\u001b[0m running one iteration for task 2: 41.07969355583191\n",
      "\u001b[2m\u001b[36m(worker pid=2227287)\u001b[0m ray running time:  19.205219507217407\u001b[32m [repeated 2x across cluster]\u001b[0m\n",
      "\u001b[2m\u001b[36m(worker pid=2227284)\u001b[0m running one iteration for task 4: 47.137622117996216\u001b[32m [repeated 6x across cluster]\u001b[0m\n"
     ]
    },
    {
     "name": "stderr",
     "output_type": "stream",
     "text": [
      "\u001b[2m\u001b[33m(raylet)\u001b[0m [2023-08-08 08:01:18,085 E 2227148 2227161] (raylet) file_system_monitor.cc:111: /tmp/ray/session_2023-08-08_08-00-26_283047_2202087 is over 95% full, available space: 17250242560; capacity: 502467059712. Object creation will fail if spilling is required.\n"
     ]
    },
    {
     "name": "stdout",
     "output_type": "stream",
     "text": [
      "\u001b[2m\u001b[36m(worker pid=2227302)\u001b[0m running one iteration for task 8: 48.65371632575989\u001b[32m [repeated 2x across cluster]\u001b[0m\n",
      "Running method mb."
     ]
    },
    {
     "name": "stderr",
     "output_type": "stream",
     "text": [
      "2023-08-08 08:01:24,534\tINFO worker.py:1636 -- Started a local Ray instance.\n"
     ]
    },
    {
     "name": "stdout",
     "output_type": "stream",
     "text": [
      "\u001b[2m\u001b[36m(worker pid=2230934)\u001b[0m ray running time:  4.29848051071167\n",
      "\u001b[2m\u001b[36m(worker pid=2230934)\u001b[0m running one iteration for task 4: 4.9648683071136475\n"
     ]
    },
    {
     "name": "stderr",
     "output_type": "stream",
     "text": [
      "\u001b[2m\u001b[33m(raylet)\u001b[0m [2023-08-08 08:01:34,427 E 2230774 2230786] (raylet) file_system_monitor.cc:111: /tmp/ray/session_2023-08-08_08-01-22_609713_2202087 is over 95% full, available space: 17248829440; capacity: 502467059712. Object creation will fail if spilling is required.\n"
     ]
    },
    {
     "name": "stdout",
     "output_type": "stream",
     "text": [
      "\u001b[2m\u001b[36m(worker pid=2230944)\u001b[0m ray running time:  8.581119537353516\u001b[32m [repeated 3x across cluster]\u001b[0m\n",
      "\u001b[2m\u001b[36m(worker pid=2230944)\u001b[0m running one iteration for task 5: 9.283493757247925\u001b[32m [repeated 3x across cluster]\u001b[0m\n",
      "\u001b[2m\u001b[36m(worker pid=2230923)\u001b[0m ray running time:  13.617282390594482\u001b[32m [repeated 3x across cluster]\u001b[0m\n",
      "\u001b[2m\u001b[36m(worker pid=2230923)\u001b[0m running one iteration for task 1: 14.271918058395386\u001b[32m [repeated 3x across cluster]\u001b[0m\n"
     ]
    },
    {
     "name": "stderr",
     "output_type": "stream",
     "text": [
      "\u001b[2m\u001b[33m(raylet)\u001b[0m [2023-08-08 08:01:44,475 E 2230774 2230786] (raylet) file_system_monitor.cc:111: /tmp/ray/session_2023-08-08_08-01-22_609713_2202087 is over 95% full, available space: 17248710656; capacity: 502467059712. Object creation will fail if spilling is required.\n"
     ]
    },
    {
     "name": "stdout",
     "output_type": "stream",
     "text": [
      "\u001b[2m\u001b[36m(worker pid=2230924)\u001b[0m ray running time:  18.061262607574463\u001b[32m [repeated 3x across cluster]\u001b[0m\n",
      "\u001b[2m\u001b[36m(worker pid=2230922)\u001b[0m running one iteration for task 9: 17.703144788742065\u001b[32m [repeated 2x across cluster]\u001b[0m\n",
      "Running method naive_unique."
     ]
    }
   ],
   "source": [
    "n_iters = 1000 # number of iterations\n",
    "alpha = 0.05 # confidence level - no need to change this\n",
    "method_typ_lst = [\"os\", \"mb\", \"naive_unique\"]\n",
    "avg_lcbs = {} # average lower confidence bound\n",
    "avg_ucbs = {} # average upper confidence bound\n",
    "for method_typ in method_typ_lst:\n",
    "    sim = simulation(X, A, Y, Z, method_typ=method_typ, n_iters=n_iters)\n",
    "    sim.run(alpha)\n",
    "    avg_lcbs[method_typ] = np.mean(sim.lcb_z)\n",
    "    avg_ucbs[method_typ] = np.mean(sim.ucb_z)"
   ]
  },
  {
   "cell_type": "code",
   "execution_count": 18,
   "id": "ec21cf02",
   "metadata": {},
   "outputs": [
    {
     "name": "stdout",
     "output_type": "stream",
     "text": [
      "average lcbs:  {'os': 0.24259361522792702, 'mb': 0.18694018823428832, 'naive_unique': 0.23733974446437775}\n",
      "average ucbs:  {'os': 0.3078756318580821, 'mb': 0.35989756897948355, 'naive_unique': 0.3093893254531828}\n"
     ]
    }
   ],
   "source": [
    "# print results\n",
    "print(\"average lcbs: \", avg_lcbs)\n",
    "print(\"average ucbs: \", avg_ucbs)"
   ]
  }
 ],
 "metadata": {
  "kernelspec": {
   "display_name": "Python 3 (ipykernel)",
   "language": "python",
   "name": "python3"
  },
  "language_info": {
   "codemirror_mode": {
    "name": "ipython",
    "version": 3
   },
   "file_extension": ".py",
   "mimetype": "text/x-python",
   "name": "python",
   "nbconvert_exporter": "python",
   "pygments_lexer": "ipython3",
   "version": "3.7.16"
  }
 },
 "nbformat": 4,
 "nbformat_minor": 5
}
