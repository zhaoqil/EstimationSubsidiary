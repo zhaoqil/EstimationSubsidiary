{
 "cells": [
  {
   "cell_type": "markdown",
   "id": "f91a4132",
   "metadata": {},
   "source": [
    "# Code to generate plots for Section 3"
   ]
  },
  {
   "cell_type": "markdown",
   "id": "65c94355",
   "metadata": {},
   "source": [
    "### Zhaoqi Li"
   ]
  },
  {
   "cell_type": "markdown",
   "id": "246c33db",
   "metadata": {},
   "source": [
    "Load required packages: "
   ]
  },
  {
   "cell_type": "code",
   "execution_count": 19,
   "id": "40b9cd9f",
   "metadata": {
    "tags": []
   },
   "outputs": [],
   "source": [
    "import numpy as np\n",
    "import matplotlib.pyplot as plt\n",
    "import pandas as pd\n",
    "import seaborn as sns"
   ]
  },
  {
   "cell_type": "code",
   "execution_count": 20,
   "id": "354da5de",
   "metadata": {
    "tags": []
   },
   "outputs": [],
   "source": [
    "def read_files(alpha_lst, scene_typ_lst, arggs):\n",
    "    dat_lst = list()\n",
    "    for scene_typ in scene_typ_lst:\n",
    "        if scene_typ == \"nonunique\":\n",
    "            method_typ_lst = [\"mb\", \"naive_nonunique\"]\n",
    "        else:\n",
    "            method_typ_lst = [\"mb\", \"naive_unique\"]\n",
    "        for method_typ in method_typ_lst:\n",
    "            dat = pd.read_csv(\"{}/alpha={}_method_{}_scene_{}.csv\".format(arggs, alpha_lst, method_typ, scene_typ))\n",
    "            dat[\"scenario\"] = scene_typ\n",
    "            if method_typ == \"naive_nonunique\" or method_typ == \"naive_unique\":\n",
    "                dat[\"method\"] = \"two-stage\"\n",
    "            else:\n",
    "                dat[\"method\"] = \"joint\"\n",
    "            dat_lst.append(dat)\n",
    "    for scene_typ in scene_typ_lst:\n",
    "        dat = pd.read_csv(\"{}/os_oracle_alpha={}_scene_{}.csv\".format(arggs, alpha, scene_typ))\n",
    "        dat[\"scenario\"] = scene_typ\n",
    "        dat[\"method\"] = \"os\"\n",
    "        dat_lst.append(dat)\n",
    "    return dat_lst\n",
    "\n",
    "def read_os_oracle_info(alpha_lst, scene_typ_lst, arggs):\n",
    "    dat_lst = list()\n",
    "    for scene_typ in scene_typ_lst:\n",
    "        dat = pd.read_csv(\"{}/os_oracle_alpha={}_scene_{}.csv\".format(arggs, alpha, scene_typ))\n",
    "        dat[\"scenario\"] = scene_typ\n",
    "        dat[\"method\"] = \"os\"\n",
    "        dat_lst.append(dat)\n",
    "    return dat_lst"
   ]
  },
  {
   "cell_type": "markdown",
   "id": "ef3e857b",
   "metadata": {},
   "source": [
    "## 2. CI widths for three scenarios"
   ]
  },
  {
   "cell_type": "markdown",
   "id": "e587f405",
   "metadata": {},
   "source": [
    "We use $\\alpha=0.05$ for all three scenarios and below shows the results: "
   ]
  },
  {
   "cell_type": "code",
   "execution_count": 29,
   "id": "6a731a58",
   "metadata": {
    "tags": []
   },
   "outputs": [],
   "source": [
    "alpha=0.05\n",
    "scene_typ_lst = [\"nonunique\", \"unique_noncorr\", \"unique_corr\"]\n",
    "dat_lst = read_files(alpha, scene_typ_lst, \"sim_data_4\")\n",
    "\n",
    "dat = pd.DataFrame()\n",
    "for i in range(len(dat_lst)):\n",
    "    dat = pd.concat([dat, dat_lst[i]])"
   ]
  },
  {
   "cell_type": "code",
   "execution_count": 30,
   "id": "7bc11d6a",
   "metadata": {
    "tags": []
   },
   "outputs": [
    {
     "data": {
      "text/html": [
       "<div>\n",
       "<style scoped>\n",
       "    .dataframe tbody tr th:only-of-type {\n",
       "        vertical-align: middle;\n",
       "    }\n",
       "\n",
       "    .dataframe tbody tr th {\n",
       "        vertical-align: top;\n",
       "    }\n",
       "\n",
       "    .dataframe thead th {\n",
       "        text-align: right;\n",
       "    }\n",
       "</style>\n",
       "<table border=\"1\" class=\"dataframe\">\n",
       "  <thead>\n",
       "    <tr style=\"text-align: right;\">\n",
       "      <th></th>\n",
       "      <th>Unnamed: 0</th>\n",
       "      <th>alpha</th>\n",
       "      <th>coverage</th>\n",
       "      <th>width</th>\n",
       "      <th>policy coverage</th>\n",
       "      <th>coverage_unif</th>\n",
       "      <th>width_unif</th>\n",
       "      <th>len_pi_hat</th>\n",
       "      <th>scenario</th>\n",
       "      <th>method</th>\n",
       "      <th>os coverage</th>\n",
       "      <th>os width</th>\n",
       "      <th>oracle coverage</th>\n",
       "      <th>oracle width</th>\n",
       "    </tr>\n",
       "  </thead>\n",
       "  <tbody>\n",
       "    <tr>\n",
       "      <th>0</th>\n",
       "      <td>0</td>\n",
       "      <td>0.05</td>\n",
       "      <td>0.000</td>\n",
       "      <td>0.085066</td>\n",
       "      <td>1.0</td>\n",
       "      <td>1.000</td>\n",
       "      <td>1.060860</td>\n",
       "      <td>258.207</td>\n",
       "      <td>nonunique</td>\n",
       "      <td>joint</td>\n",
       "      <td>NaN</td>\n",
       "      <td>NaN</td>\n",
       "      <td>NaN</td>\n",
       "      <td>NaN</td>\n",
       "    </tr>\n",
       "    <tr>\n",
       "      <th>0</th>\n",
       "      <td>0</td>\n",
       "      <td>0.05</td>\n",
       "      <td>0.000</td>\n",
       "      <td>0.083286</td>\n",
       "      <td>1.0</td>\n",
       "      <td>1.000</td>\n",
       "      <td>1.091445</td>\n",
       "      <td>273.013</td>\n",
       "      <td>nonunique</td>\n",
       "      <td>two-stage</td>\n",
       "      <td>NaN</td>\n",
       "      <td>NaN</td>\n",
       "      <td>NaN</td>\n",
       "      <td>NaN</td>\n",
       "    </tr>\n",
       "    <tr>\n",
       "      <th>0</th>\n",
       "      <td>0</td>\n",
       "      <td>0.05</td>\n",
       "      <td>0.983</td>\n",
       "      <td>0.035923</td>\n",
       "      <td>1.0</td>\n",
       "      <td>0.983</td>\n",
       "      <td>0.035923</td>\n",
       "      <td>162.679</td>\n",
       "      <td>unique_noncorr</td>\n",
       "      <td>joint</td>\n",
       "      <td>NaN</td>\n",
       "      <td>NaN</td>\n",
       "      <td>NaN</td>\n",
       "      <td>NaN</td>\n",
       "    </tr>\n",
       "    <tr>\n",
       "      <th>0</th>\n",
       "      <td>0</td>\n",
       "      <td>0.05</td>\n",
       "      <td>0.989</td>\n",
       "      <td>0.039751</td>\n",
       "      <td>1.0</td>\n",
       "      <td>0.989</td>\n",
       "      <td>0.039753</td>\n",
       "      <td>176.935</td>\n",
       "      <td>unique_noncorr</td>\n",
       "      <td>two-stage</td>\n",
       "      <td>NaN</td>\n",
       "      <td>NaN</td>\n",
       "      <td>NaN</td>\n",
       "      <td>NaN</td>\n",
       "    </tr>\n",
       "    <tr>\n",
       "      <th>0</th>\n",
       "      <td>0</td>\n",
       "      <td>0.05</td>\n",
       "      <td>0.986</td>\n",
       "      <td>0.035379</td>\n",
       "      <td>1.0</td>\n",
       "      <td>0.986</td>\n",
       "      <td>0.098678</td>\n",
       "      <td>163.497</td>\n",
       "      <td>unique_corr</td>\n",
       "      <td>joint</td>\n",
       "      <td>NaN</td>\n",
       "      <td>NaN</td>\n",
       "      <td>NaN</td>\n",
       "      <td>NaN</td>\n",
       "    </tr>\n",
       "    <tr>\n",
       "      <th>0</th>\n",
       "      <td>0</td>\n",
       "      <td>0.05</td>\n",
       "      <td>0.981</td>\n",
       "      <td>0.034892</td>\n",
       "      <td>1.0</td>\n",
       "      <td>0.981</td>\n",
       "      <td>0.105213</td>\n",
       "      <td>176.935</td>\n",
       "      <td>unique_corr</td>\n",
       "      <td>two-stage</td>\n",
       "      <td>NaN</td>\n",
       "      <td>NaN</td>\n",
       "      <td>NaN</td>\n",
       "      <td>NaN</td>\n",
       "    </tr>\n",
       "    <tr>\n",
       "      <th>0</th>\n",
       "      <td>0</td>\n",
       "      <td>0.05</td>\n",
       "      <td>NaN</td>\n",
       "      <td>NaN</td>\n",
       "      <td>NaN</td>\n",
       "      <td>NaN</td>\n",
       "      <td>NaN</td>\n",
       "      <td>NaN</td>\n",
       "      <td>nonunique</td>\n",
       "      <td>os</td>\n",
       "      <td>0.000</td>\n",
       "      <td>0.060533</td>\n",
       "      <td>0.954</td>\n",
       "      <td>0.460262</td>\n",
       "    </tr>\n",
       "    <tr>\n",
       "      <th>0</th>\n",
       "      <td>0</td>\n",
       "      <td>0.05</td>\n",
       "      <td>NaN</td>\n",
       "      <td>NaN</td>\n",
       "      <td>NaN</td>\n",
       "      <td>NaN</td>\n",
       "      <td>NaN</td>\n",
       "      <td>NaN</td>\n",
       "      <td>unique_noncorr</td>\n",
       "      <td>os</td>\n",
       "      <td>0.946</td>\n",
       "      <td>0.023428</td>\n",
       "      <td>0.958</td>\n",
       "      <td>0.023290</td>\n",
       "    </tr>\n",
       "    <tr>\n",
       "      <th>0</th>\n",
       "      <td>0</td>\n",
       "      <td>0.05</td>\n",
       "      <td>NaN</td>\n",
       "      <td>NaN</td>\n",
       "      <td>NaN</td>\n",
       "      <td>NaN</td>\n",
       "      <td>NaN</td>\n",
       "      <td>NaN</td>\n",
       "      <td>unique_corr</td>\n",
       "      <td>os</td>\n",
       "      <td>0.810</td>\n",
       "      <td>0.016612</td>\n",
       "      <td>0.950</td>\n",
       "      <td>0.016428</td>\n",
       "    </tr>\n",
       "  </tbody>\n",
       "</table>\n",
       "</div>"
      ],
      "text/plain": [
       "   Unnamed: 0  alpha  coverage     width  policy coverage  coverage_unif  \\\n",
       "0           0   0.05     0.000  0.085066              1.0          1.000   \n",
       "0           0   0.05     0.000  0.083286              1.0          1.000   \n",
       "0           0   0.05     0.983  0.035923              1.0          0.983   \n",
       "0           0   0.05     0.989  0.039751              1.0          0.989   \n",
       "0           0   0.05     0.986  0.035379              1.0          0.986   \n",
       "0           0   0.05     0.981  0.034892              1.0          0.981   \n",
       "0           0   0.05       NaN       NaN              NaN            NaN   \n",
       "0           0   0.05       NaN       NaN              NaN            NaN   \n",
       "0           0   0.05       NaN       NaN              NaN            NaN   \n",
       "\n",
       "   width_unif  len_pi_hat        scenario     method  os coverage  os width  \\\n",
       "0    1.060860     258.207       nonunique      joint          NaN       NaN   \n",
       "0    1.091445     273.013       nonunique  two-stage          NaN       NaN   \n",
       "0    0.035923     162.679  unique_noncorr      joint          NaN       NaN   \n",
       "0    0.039753     176.935  unique_noncorr  two-stage          NaN       NaN   \n",
       "0    0.098678     163.497     unique_corr      joint          NaN       NaN   \n",
       "0    0.105213     176.935     unique_corr  two-stage          NaN       NaN   \n",
       "0         NaN         NaN       nonunique         os        0.000  0.060533   \n",
       "0         NaN         NaN  unique_noncorr         os        0.946  0.023428   \n",
       "0         NaN         NaN     unique_corr         os        0.810  0.016612   \n",
       "\n",
       "   oracle coverage  oracle width  \n",
       "0              NaN           NaN  \n",
       "0              NaN           NaN  \n",
       "0              NaN           NaN  \n",
       "0              NaN           NaN  \n",
       "0              NaN           NaN  \n",
       "0              NaN           NaN  \n",
       "0            0.954      0.460262  \n",
       "0            0.958      0.023290  \n",
       "0            0.950      0.016428  "
      ]
     },
     "execution_count": 30,
     "metadata": {},
     "output_type": "execute_result"
    }
   ],
   "source": [
    "dat"
   ]
  },
  {
   "cell_type": "code",
   "execution_count": 31,
   "id": "bd09063d",
   "metadata": {
    "tags": []
   },
   "outputs": [],
   "source": [
    "dat[\"method\"] = [\"joint\", \"two-stage\", \"joint\", \"two-stage\", \"joint\", \"two-stage\", \"one-step\", \"one-step\",\"one-step\"]"
   ]
  },
  {
   "cell_type": "code",
   "execution_count": 32,
   "id": "81b5a812",
   "metadata": {
    "scrolled": true,
    "tags": []
   },
   "outputs": [],
   "source": [
    "dat_lst_os = read_os_oracle_info(alpha_lst, scene_typ_lst, \"sim_data\")\n",
    "dat_os = pd.DataFrame()\n",
    "for i in range(len(dat_lst_os)):\n",
    "    dat_os = pd.concat([dat_os, dat_lst_os[i]])"
   ]
  },
  {
   "cell_type": "code",
   "execution_count": 33,
   "id": "17fc5448",
   "metadata": {
    "tags": []
   },
   "outputs": [],
   "source": [
    "dat_width = pd.DataFrame()\n",
    "coverage_arr = np.concatenate([np.array(dat[\"coverage_unif\"])[0:6], np.array(dat[\"os coverage\"])[6:9]])\n",
    "dat_width[\"coverage\"] = coverage_arr.flatten()\n",
    "dat_width[\"scenario\"] = np.array(dat[\"scenario\"])\n",
    "dat_width[\"method\"] = np.array(dat[\"method\"])\n",
    "width_arr = np.concatenate([np.array(dat[\"width_unif\"])[0:2], np.array(dat[\"width\"])[2:6], np.array(dat[\"os width\"])[6:9]])\n",
    "dat_width[\"width\"] = width_arr.flatten()"
   ]
  },
  {
   "cell_type": "code",
   "execution_count": 34,
   "id": "02c476c2",
   "metadata": {
    "tags": []
   },
   "outputs": [
    {
     "data": {
      "text/html": [
       "<div>\n",
       "<style scoped>\n",
       "    .dataframe tbody tr th:only-of-type {\n",
       "        vertical-align: middle;\n",
       "    }\n",
       "\n",
       "    .dataframe tbody tr th {\n",
       "        vertical-align: top;\n",
       "    }\n",
       "\n",
       "    .dataframe thead th {\n",
       "        text-align: right;\n",
       "    }\n",
       "</style>\n",
       "<table border=\"1\" class=\"dataframe\">\n",
       "  <thead>\n",
       "    <tr style=\"text-align: right;\">\n",
       "      <th></th>\n",
       "      <th>coverage</th>\n",
       "      <th>scenario</th>\n",
       "      <th>method</th>\n",
       "      <th>width</th>\n",
       "    </tr>\n",
       "  </thead>\n",
       "  <tbody>\n",
       "    <tr>\n",
       "      <th>0</th>\n",
       "      <td>1.000</td>\n",
       "      <td>nonunique</td>\n",
       "      <td>joint</td>\n",
       "      <td>1.060860</td>\n",
       "    </tr>\n",
       "    <tr>\n",
       "      <th>1</th>\n",
       "      <td>1.000</td>\n",
       "      <td>nonunique</td>\n",
       "      <td>two-stage</td>\n",
       "      <td>1.091445</td>\n",
       "    </tr>\n",
       "    <tr>\n",
       "      <th>2</th>\n",
       "      <td>0.983</td>\n",
       "      <td>unique_noncorr</td>\n",
       "      <td>joint</td>\n",
       "      <td>0.035923</td>\n",
       "    </tr>\n",
       "    <tr>\n",
       "      <th>3</th>\n",
       "      <td>0.989</td>\n",
       "      <td>unique_noncorr</td>\n",
       "      <td>two-stage</td>\n",
       "      <td>0.039751</td>\n",
       "    </tr>\n",
       "    <tr>\n",
       "      <th>4</th>\n",
       "      <td>0.986</td>\n",
       "      <td>unique_corr</td>\n",
       "      <td>joint</td>\n",
       "      <td>0.035379</td>\n",
       "    </tr>\n",
       "    <tr>\n",
       "      <th>5</th>\n",
       "      <td>0.981</td>\n",
       "      <td>unique_corr</td>\n",
       "      <td>two-stage</td>\n",
       "      <td>0.034892</td>\n",
       "    </tr>\n",
       "    <tr>\n",
       "      <th>6</th>\n",
       "      <td>0.000</td>\n",
       "      <td>nonunique</td>\n",
       "      <td>one-step</td>\n",
       "      <td>0.060533</td>\n",
       "    </tr>\n",
       "    <tr>\n",
       "      <th>7</th>\n",
       "      <td>0.946</td>\n",
       "      <td>unique_noncorr</td>\n",
       "      <td>one-step</td>\n",
       "      <td>0.023428</td>\n",
       "    </tr>\n",
       "    <tr>\n",
       "      <th>8</th>\n",
       "      <td>0.810</td>\n",
       "      <td>unique_corr</td>\n",
       "      <td>one-step</td>\n",
       "      <td>0.016612</td>\n",
       "    </tr>\n",
       "  </tbody>\n",
       "</table>\n",
       "</div>"
      ],
      "text/plain": [
       "   coverage        scenario     method     width\n",
       "0     1.000       nonunique      joint  1.060860\n",
       "1     1.000       nonunique  two-stage  1.091445\n",
       "2     0.983  unique_noncorr      joint  0.035923\n",
       "3     0.989  unique_noncorr  two-stage  0.039751\n",
       "4     0.986     unique_corr      joint  0.035379\n",
       "5     0.981     unique_corr  two-stage  0.034892\n",
       "6     0.000       nonunique   one-step  0.060533\n",
       "7     0.946  unique_noncorr   one-step  0.023428\n",
       "8     0.810     unique_corr   one-step  0.016612"
      ]
     },
     "execution_count": 34,
     "metadata": {},
     "output_type": "execute_result"
    }
   ],
   "source": [
    "dat_width"
   ]
  },
  {
   "cell_type": "code",
   "execution_count": 35,
   "id": "6161e2a2",
   "metadata": {
    "tags": []
   },
   "outputs": [],
   "source": [
    "dat_os_s = dat_os[[\"oracle coverage\", \"oracle width\", \"scenario\"]]\n",
    "dat_width_joint = pd.merge(dat_width, dat_os_s, how=\"left\", on=\"scenario\")\n",
    "dat_width_joint[\"rel_width\"] = dat_width_joint[\"width\"] / dat_width_joint[\"oracle width\"]"
   ]
  },
  {
   "cell_type": "code",
   "execution_count": 36,
   "id": "31c84818",
   "metadata": {
    "tags": []
   },
   "outputs": [
    {
     "data": {
      "text/html": [
       "<div>\n",
       "<style scoped>\n",
       "    .dataframe tbody tr th:only-of-type {\n",
       "        vertical-align: middle;\n",
       "    }\n",
       "\n",
       "    .dataframe tbody tr th {\n",
       "        vertical-align: top;\n",
       "    }\n",
       "\n",
       "    .dataframe thead th {\n",
       "        text-align: right;\n",
       "    }\n",
       "</style>\n",
       "<table border=\"1\" class=\"dataframe\">\n",
       "  <thead>\n",
       "    <tr style=\"text-align: right;\">\n",
       "      <th></th>\n",
       "      <th>coverage</th>\n",
       "      <th>scenario</th>\n",
       "      <th>method</th>\n",
       "      <th>width</th>\n",
       "      <th>oracle coverage</th>\n",
       "      <th>oracle width</th>\n",
       "      <th>rel_width</th>\n",
       "    </tr>\n",
       "  </thead>\n",
       "  <tbody>\n",
       "    <tr>\n",
       "      <th>0</th>\n",
       "      <td>1.000</td>\n",
       "      <td>nonunique</td>\n",
       "      <td>joint</td>\n",
       "      <td>1.060860</td>\n",
       "      <td>1.0</td>\n",
       "      <td>0.892947</td>\n",
       "      <td>1.188043</td>\n",
       "    </tr>\n",
       "    <tr>\n",
       "      <th>1</th>\n",
       "      <td>1.000</td>\n",
       "      <td>nonunique</td>\n",
       "      <td>two-stage</td>\n",
       "      <td>1.091445</td>\n",
       "      <td>1.0</td>\n",
       "      <td>0.892947</td>\n",
       "      <td>1.222294</td>\n",
       "    </tr>\n",
       "    <tr>\n",
       "      <th>2</th>\n",
       "      <td>0.983</td>\n",
       "      <td>unique_noncorr</td>\n",
       "      <td>joint</td>\n",
       "      <td>0.035923</td>\n",
       "      <td>1.0</td>\n",
       "      <td>0.119095</td>\n",
       "      <td>0.301636</td>\n",
       "    </tr>\n",
       "    <tr>\n",
       "      <th>3</th>\n",
       "      <td>0.989</td>\n",
       "      <td>unique_noncorr</td>\n",
       "      <td>two-stage</td>\n",
       "      <td>0.039751</td>\n",
       "      <td>1.0</td>\n",
       "      <td>0.119095</td>\n",
       "      <td>0.333776</td>\n",
       "    </tr>\n",
       "    <tr>\n",
       "      <th>4</th>\n",
       "      <td>0.986</td>\n",
       "      <td>unique_corr</td>\n",
       "      <td>joint</td>\n",
       "      <td>0.035379</td>\n",
       "      <td>1.0</td>\n",
       "      <td>0.107799</td>\n",
       "      <td>0.328195</td>\n",
       "    </tr>\n",
       "    <tr>\n",
       "      <th>5</th>\n",
       "      <td>0.981</td>\n",
       "      <td>unique_corr</td>\n",
       "      <td>two-stage</td>\n",
       "      <td>0.034892</td>\n",
       "      <td>1.0</td>\n",
       "      <td>0.107799</td>\n",
       "      <td>0.323683</td>\n",
       "    </tr>\n",
       "    <tr>\n",
       "      <th>6</th>\n",
       "      <td>0.000</td>\n",
       "      <td>nonunique</td>\n",
       "      <td>one-step</td>\n",
       "      <td>0.060533</td>\n",
       "      <td>1.0</td>\n",
       "      <td>0.892947</td>\n",
       "      <td>0.067790</td>\n",
       "    </tr>\n",
       "    <tr>\n",
       "      <th>7</th>\n",
       "      <td>0.946</td>\n",
       "      <td>unique_noncorr</td>\n",
       "      <td>one-step</td>\n",
       "      <td>0.023428</td>\n",
       "      <td>1.0</td>\n",
       "      <td>0.119095</td>\n",
       "      <td>0.196717</td>\n",
       "    </tr>\n",
       "    <tr>\n",
       "      <th>8</th>\n",
       "      <td>0.810</td>\n",
       "      <td>unique_corr</td>\n",
       "      <td>one-step</td>\n",
       "      <td>0.016612</td>\n",
       "      <td>1.0</td>\n",
       "      <td>0.107799</td>\n",
       "      <td>0.154103</td>\n",
       "    </tr>\n",
       "  </tbody>\n",
       "</table>\n",
       "</div>"
      ],
      "text/plain": [
       "   coverage        scenario     method     width  oracle coverage  \\\n",
       "0     1.000       nonunique      joint  1.060860              1.0   \n",
       "1     1.000       nonunique  two-stage  1.091445              1.0   \n",
       "2     0.983  unique_noncorr      joint  0.035923              1.0   \n",
       "3     0.989  unique_noncorr  two-stage  0.039751              1.0   \n",
       "4     0.986     unique_corr      joint  0.035379              1.0   \n",
       "5     0.981     unique_corr  two-stage  0.034892              1.0   \n",
       "6     0.000       nonunique   one-step  0.060533              1.0   \n",
       "7     0.946  unique_noncorr   one-step  0.023428              1.0   \n",
       "8     0.810     unique_corr   one-step  0.016612              1.0   \n",
       "\n",
       "   oracle width  rel_width  \n",
       "0      0.892947   1.188043  \n",
       "1      0.892947   1.222294  \n",
       "2      0.119095   0.301636  \n",
       "3      0.119095   0.333776  \n",
       "4      0.107799   0.328195  \n",
       "5      0.107799   0.323683  \n",
       "6      0.892947   0.067790  \n",
       "7      0.119095   0.196717  \n",
       "8      0.107799   0.154103  "
      ]
     },
     "execution_count": 36,
     "metadata": {},
     "output_type": "execute_result"
    }
   ],
   "source": [
    "dat_width_joint"
   ]
  },
  {
   "cell_type": "code",
   "execution_count": 18,
   "id": "f2271c10",
   "metadata": {
    "tags": []
   },
   "outputs": [
    {
     "data": {
      "text/plain": [
       "<seaborn.axisgrid.FacetGrid at 0x7f6fc7e3f210>"
      ]
     },
     "execution_count": 18,
     "metadata": {},
     "output_type": "execute_result"
    },
    {
     "data": {
      "image/png": "[encoded data removed]",
      "text/plain": [
       "<Figure size 648x216 with 3 Axes>"
      ]
     },
     "metadata": {
      "needs_background": "light"
     },
     "output_type": "display_data"
    }
   ],
   "source": [
    "g = sns.FacetGrid(dat_width_joint, col=\"scenario\")\n",
    "g.map_dataframe(sns.barplot, x=\"scenario\", y=\"rel_width\", hue=\"method\")"
   ]
  },
  {
   "cell_type": "code",
   "execution_count": 25,
   "id": "ec0f1f56",
   "metadata": {
    "tags": []
   },
   "outputs": [
    {
     "data": {
      "text/plain": [
       "<Axes: xlabel='scenario', ylabel='rel_width'>"
      ]
     },
     "execution_count": 25,
     "metadata": {},
     "output_type": "execute_result"
    },
    {
     "data": {
      "image/png": "[encoded data removed]",
      "text/plain": [
       "<Figure size 640x480 with 1 Axes>"
      ]
     },
     "metadata": {},
     "output_type": "display_data"
    }
   ],
   "source": [
    "sns.barplot(x=\"scenario\", y=\"rel_width\", hue=\"method\", data=dat_width_joint)"
   ]
  },
  {
   "cell_type": "code",
   "execution_count": 21,
   "id": "54b55fe3",
   "metadata": {},
   "outputs": [
    {
     "data": {
      "text/plain": [
       "<AxesSubplot:xlabel='scenario', ylabel='rel_width'>"
      ]
     },
     "execution_count": 21,
     "metadata": {},
     "output_type": "execute_result"
    },
    {
     "data": {
      "image/png": "[encoded data removed]",
      "text/plain": [
       "<Figure size 432x288 with 1 Axes>"
      ]
     },
     "metadata": {
      "needs_background": "light"
     },
     "output_type": "display_data"
    }
   ],
   "source": [
    "sns.barplot(x=\"scenario\", y=\"rel_width\", hue=\"method\", data=dat_width_joint)"
   ]
  },
  {
   "cell_type": "code",
   "execution_count": 22,
   "id": "8266e2c6",
   "metadata": {},
   "outputs": [
    {
     "data": {
      "image/png": "[encoded data removed]",
      "text/plain": [
       "<Figure size 432x288 with 1 Axes>"
      ]
     },
     "metadata": {
      "needs_background": "light"
     },
     "output_type": "display_data"
    }
   ],
   "source": [
    "#sns.set(rc={\"figure.figsize\":(8, 6)}) #width=8, height=4\n",
    "#sns.set(font_scale=0.8)\n",
    "ax = sns.barplot(x=\"scenario\", y=\"rel_width\", hue=\"method\", data=dat_width_joint)\n",
    "ax.set(xlabel='scenario', ylabel='CI width relative to oracle')\n",
    "plt.legend(bbox_to_anchor=(1.05, 1), loc='upper left', borderaxespad=0)\n",
    "plt.show()"
   ]
  },
  {
   "cell_type": "markdown",
   "id": "119f6e37",
   "metadata": {},
   "source": [
    "## 3. Add high-dimensional results"
   ]
  },
  {
   "cell_type": "code",
   "execution_count": 185,
   "id": "947c529f",
   "metadata": {},
   "outputs": [],
   "source": [
    "# preliminary results\n",
    "CI_high_dim = [0.103632188882977, 0.09396314308572905, 0.07138447083102573]\n",
    "method_typ_high_dim = [\"two-stage\", \"joint\", \"os\"]\n",
    "#dic_CI = {\"two-stage\": 0.103632188882977, \"mb\": 0.0993137561714581, \"oracle\": 0.07138447083102573}\n",
    "dat_high_dim = pd.DataFrame({\"method\": method_typ_high_dim, \"width\": CI_high_dim})"
   ]
  },
  {
   "cell_type": "code",
   "execution_count": 186,
   "id": "27d3047f",
   "metadata": {},
   "outputs": [
    {
     "data": {
      "text/html": [
       "<div>\n",
       "<style scoped>\n",
       "    .dataframe tbody tr th:only-of-type {\n",
       "        vertical-align: middle;\n",
       "    }\n",
       "\n",
       "    .dataframe tbody tr th {\n",
       "        vertical-align: top;\n",
       "    }\n",
       "\n",
       "    .dataframe thead th {\n",
       "        text-align: right;\n",
       "    }\n",
       "</style>\n",
       "<table border=\"1\" class=\"dataframe\">\n",
       "  <thead>\n",
       "    <tr style=\"text-align: right;\">\n",
       "      <th></th>\n",
       "      <th>method</th>\n",
       "      <th>width</th>\n",
       "    </tr>\n",
       "  </thead>\n",
       "  <tbody>\n",
       "    <tr>\n",
       "      <th>0</th>\n",
       "      <td>two-stage</td>\n",
       "      <td>0.103632</td>\n",
       "    </tr>\n",
       "    <tr>\n",
       "      <th>1</th>\n",
       "      <td>joint</td>\n",
       "      <td>0.093963</td>\n",
       "    </tr>\n",
       "    <tr>\n",
       "      <th>2</th>\n",
       "      <td>os</td>\n",
       "      <td>0.071384</td>\n",
       "    </tr>\n",
       "  </tbody>\n",
       "</table>\n",
       "</div>"
      ],
      "text/plain": [
       "      method     width\n",
       "0  two-stage  0.103632\n",
       "1      joint  0.093963\n",
       "2         os  0.071384"
      ]
     },
     "execution_count": 186,
     "metadata": {},
     "output_type": "execute_result"
    }
   ],
   "source": [
    "dat_high_dim"
   ]
  },
  {
   "cell_type": "code",
   "execution_count": 187,
   "id": "9b67077a",
   "metadata": {},
   "outputs": [],
   "source": [
    "dat_high_dim[\"rel_width\"] = dat_high_dim[\"width\"] / 0.07138447083102573"
   ]
  },
  {
   "cell_type": "code",
   "execution_count": 190,
   "id": "35de1911",
   "metadata": {},
   "outputs": [],
   "source": [
    "# add remaining columns\n",
    "dat_high_dim[\"coverage\"] = [1.0, 0.98, 1.0]\n",
    "dat_high_dim[\"scenario\"] = [\"high_dim\", \"high_dim\", \"high_dim\"]"
   ]
  },
  {
   "cell_type": "code",
   "execution_count": 191,
   "id": "9149af67",
   "metadata": {},
   "outputs": [
    {
     "data": {
      "text/html": [
       "<div>\n",
       "<style scoped>\n",
       "    .dataframe tbody tr th:only-of-type {\n",
       "        vertical-align: middle;\n",
       "    }\n",
       "\n",
       "    .dataframe tbody tr th {\n",
       "        vertical-align: top;\n",
       "    }\n",
       "\n",
       "    .dataframe thead th {\n",
       "        text-align: right;\n",
       "    }\n",
       "</style>\n",
       "<table border=\"1\" class=\"dataframe\">\n",
       "  <thead>\n",
       "    <tr style=\"text-align: right;\">\n",
       "      <th></th>\n",
       "      <th>method</th>\n",
       "      <th>width</th>\n",
       "      <th>rel_width</th>\n",
       "      <th>coverage</th>\n",
       "      <th>scenario</th>\n",
       "    </tr>\n",
       "  </thead>\n",
       "  <tbody>\n",
       "    <tr>\n",
       "      <th>0</th>\n",
       "      <td>two-stage</td>\n",
       "      <td>0.103632</td>\n",
       "      <td>1.451747</td>\n",
       "      <td>1.00</td>\n",
       "      <td>high_dim</td>\n",
       "    </tr>\n",
       "    <tr>\n",
       "      <th>1</th>\n",
       "      <td>joint</td>\n",
       "      <td>0.093963</td>\n",
       "      <td>1.316297</td>\n",
       "      <td>0.98</td>\n",
       "      <td>high_dim</td>\n",
       "    </tr>\n",
       "    <tr>\n",
       "      <th>2</th>\n",
       "      <td>os</td>\n",
       "      <td>0.071384</td>\n",
       "      <td>1.000000</td>\n",
       "      <td>1.00</td>\n",
       "      <td>high_dim</td>\n",
       "    </tr>\n",
       "  </tbody>\n",
       "</table>\n",
       "</div>"
      ],
      "text/plain": [
       "      method     width  rel_width  coverage  scenario\n",
       "0  two-stage  0.103632   1.451747      1.00  high_dim\n",
       "1      joint  0.093963   1.316297      0.98  high_dim\n",
       "2         os  0.071384   1.000000      1.00  high_dim"
      ]
     },
     "execution_count": 191,
     "metadata": {},
     "output_type": "execute_result"
    }
   ],
   "source": [
    "dat_high_dim"
   ]
  },
  {
   "cell_type": "code",
   "execution_count": 192,
   "id": "25b9d029",
   "metadata": {},
   "outputs": [],
   "source": [
    "dat_high_dim_joint = pd.concat([dat_width_joint, dat_high_dim])"
   ]
  },
  {
   "cell_type": "code",
   "execution_count": 193,
   "id": "b17215de",
   "metadata": {},
   "outputs": [
    {
     "data": {
      "text/html": [
       "<div>\n",
       "<style scoped>\n",
       "    .dataframe tbody tr th:only-of-type {\n",
       "        vertical-align: middle;\n",
       "    }\n",
       "\n",
       "    .dataframe tbody tr th {\n",
       "        vertical-align: top;\n",
       "    }\n",
       "\n",
       "    .dataframe thead th {\n",
       "        text-align: right;\n",
       "    }\n",
       "</style>\n",
       "<table border=\"1\" class=\"dataframe\">\n",
       "  <thead>\n",
       "    <tr style=\"text-align: right;\">\n",
       "      <th></th>\n",
       "      <th>coverage</th>\n",
       "      <th>scenario</th>\n",
       "      <th>method</th>\n",
       "      <th>width</th>\n",
       "      <th>oracle coverage</th>\n",
       "      <th>oracle width</th>\n",
       "      <th>rel_width</th>\n",
       "    </tr>\n",
       "  </thead>\n",
       "  <tbody>\n",
       "    <tr>\n",
       "      <th>0</th>\n",
       "      <td>1.000</td>\n",
       "      <td>nonunique</td>\n",
       "      <td>joint</td>\n",
       "      <td>1.327191</td>\n",
       "      <td>0.953</td>\n",
       "      <td>0.534413</td>\n",
       "      <td>2.483454</td>\n",
       "    </tr>\n",
       "    <tr>\n",
       "      <th>1</th>\n",
       "      <td>1.000</td>\n",
       "      <td>nonunique</td>\n",
       "      <td>two-stage</td>\n",
       "      <td>1.334796</td>\n",
       "      <td>0.953</td>\n",
       "      <td>0.534413</td>\n",
       "      <td>2.497685</td>\n",
       "    </tr>\n",
       "    <tr>\n",
       "      <th>2</th>\n",
       "      <td>0.980</td>\n",
       "      <td>unique_noncorr</td>\n",
       "      <td>joint</td>\n",
       "      <td>0.079964</td>\n",
       "      <td>0.944</td>\n",
       "      <td>0.036704</td>\n",
       "      <td>2.178606</td>\n",
       "    </tr>\n",
       "    <tr>\n",
       "      <th>3</th>\n",
       "      <td>0.980</td>\n",
       "      <td>unique_noncorr</td>\n",
       "      <td>two-stage</td>\n",
       "      <td>0.080128</td>\n",
       "      <td>0.944</td>\n",
       "      <td>0.036704</td>\n",
       "      <td>2.183058</td>\n",
       "    </tr>\n",
       "    <tr>\n",
       "      <th>4</th>\n",
       "      <td>0.981</td>\n",
       "      <td>unique_corr</td>\n",
       "      <td>joint</td>\n",
       "      <td>0.073585</td>\n",
       "      <td>0.943</td>\n",
       "      <td>0.034033</td>\n",
       "      <td>2.162163</td>\n",
       "    </tr>\n",
       "    <tr>\n",
       "      <th>5</th>\n",
       "      <td>0.978</td>\n",
       "      <td>unique_corr</td>\n",
       "      <td>two-stage</td>\n",
       "      <td>0.073660</td>\n",
       "      <td>0.943</td>\n",
       "      <td>0.034033</td>\n",
       "      <td>2.164362</td>\n",
       "    </tr>\n",
       "    <tr>\n",
       "      <th>6</th>\n",
       "      <td>0.000</td>\n",
       "      <td>nonunique</td>\n",
       "      <td>os</td>\n",
       "      <td>0.133600</td>\n",
       "      <td>0.953</td>\n",
       "      <td>0.534413</td>\n",
       "      <td>0.249995</td>\n",
       "    </tr>\n",
       "    <tr>\n",
       "      <th>7</th>\n",
       "      <td>0.815</td>\n",
       "      <td>unique_noncorr</td>\n",
       "      <td>os</td>\n",
       "      <td>0.037080</td>\n",
       "      <td>0.944</td>\n",
       "      <td>0.036704</td>\n",
       "      <td>1.010228</td>\n",
       "    </tr>\n",
       "    <tr>\n",
       "      <th>8</th>\n",
       "      <td>0.949</td>\n",
       "      <td>unique_corr</td>\n",
       "      <td>os</td>\n",
       "      <td>0.034073</td>\n",
       "      <td>0.943</td>\n",
       "      <td>0.034033</td>\n",
       "      <td>1.001165</td>\n",
       "    </tr>\n",
       "    <tr>\n",
       "      <th>0</th>\n",
       "      <td>1.000</td>\n",
       "      <td>high_dim</td>\n",
       "      <td>two-stage</td>\n",
       "      <td>0.103632</td>\n",
       "      <td>NaN</td>\n",
       "      <td>NaN</td>\n",
       "      <td>1.451747</td>\n",
       "    </tr>\n",
       "    <tr>\n",
       "      <th>1</th>\n",
       "      <td>0.980</td>\n",
       "      <td>high_dim</td>\n",
       "      <td>joint</td>\n",
       "      <td>0.093963</td>\n",
       "      <td>NaN</td>\n",
       "      <td>NaN</td>\n",
       "      <td>1.316297</td>\n",
       "    </tr>\n",
       "    <tr>\n",
       "      <th>2</th>\n",
       "      <td>1.000</td>\n",
       "      <td>high_dim</td>\n",
       "      <td>os</td>\n",
       "      <td>0.071384</td>\n",
       "      <td>NaN</td>\n",
       "      <td>NaN</td>\n",
       "      <td>1.000000</td>\n",
       "    </tr>\n",
       "  </tbody>\n",
       "</table>\n",
       "</div>"
      ],
      "text/plain": [
       "   coverage        scenario     method     width  oracle coverage  \\\n",
       "0     1.000       nonunique      joint  1.327191            0.953   \n",
       "1     1.000       nonunique  two-stage  1.334796            0.953   \n",
       "2     0.980  unique_noncorr      joint  0.079964            0.944   \n",
       "3     0.980  unique_noncorr  two-stage  0.080128            0.944   \n",
       "4     0.981     unique_corr      joint  0.073585            0.943   \n",
       "5     0.978     unique_corr  two-stage  0.073660            0.943   \n",
       "6     0.000       nonunique         os  0.133600            0.953   \n",
       "7     0.815  unique_noncorr         os  0.037080            0.944   \n",
       "8     0.949     unique_corr         os  0.034073            0.943   \n",
       "0     1.000        high_dim  two-stage  0.103632              NaN   \n",
       "1     0.980        high_dim      joint  0.093963              NaN   \n",
       "2     1.000        high_dim         os  0.071384              NaN   \n",
       "\n",
       "   oracle width  rel_width  \n",
       "0      0.534413   2.483454  \n",
       "1      0.534413   2.497685  \n",
       "2      0.036704   2.178606  \n",
       "3      0.036704   2.183058  \n",
       "4      0.034033   2.162163  \n",
       "5      0.034033   2.164362  \n",
       "6      0.534413   0.249995  \n",
       "7      0.036704   1.010228  \n",
       "8      0.034033   1.001165  \n",
       "0           NaN   1.451747  \n",
       "1           NaN   1.316297  \n",
       "2           NaN   1.000000  "
      ]
     },
     "execution_count": 193,
     "metadata": {},
     "output_type": "execute_result"
    }
   ],
   "source": [
    "dat_high_dim_joint"
   ]
  },
  {
   "cell_type": "code",
   "execution_count": 194,
   "id": "ccf81e79",
   "metadata": {},
   "outputs": [
    {
     "data": {
      "image/png": "[encoded data removed]",
      "text/plain": [
       "<Figure size 432x288 with 1 Axes>"
      ]
     },
     "metadata": {
      "needs_background": "light"
     },
     "output_type": "display_data"
    }
   ],
   "source": [
    "ax = sns.barplot(x=\"scenario\", y=\"rel_width\", hue=\"method\", data=dat_high_dim_joint)\n",
    "ax.set(xlabel='scenario', ylabel='CI width relative to oracle')\n",
    "plt.show()"
   ]
  },
  {
   "cell_type": "code",
   "execution_count": null,
   "id": "8f361284",
   "metadata": {},
   "outputs": [],
   "source": []
  }
 ],
 "metadata": {
  "kernelspec": {
   "display_name": "Python 3 (ipykernel)",
   "language": "python",
   "name": "python3"
  },
  "language_info": {
   "codemirror_mode": {
    "name": "ipython",
    "version": 3
   },
   "file_extension": ".py",
   "mimetype": "text/x-python",
   "name": "python",
   "nbconvert_exporter": "python",
   "pygments_lexer": "ipython3",
   "version": "3.7.11"
  }
 },
 "nbformat": 4,
 "nbformat_minor": 5
}
