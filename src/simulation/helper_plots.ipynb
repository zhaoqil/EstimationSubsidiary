{
 "cells": [
  {
   "cell_type": "code",
   "execution_count": 1,
   "id": "e5637f9f",
   "metadata": {
    "tags": []
   },
   "outputs": [],
   "source": [
    "import numpy as np\n",
    "import matplotlib.pyplot as plt\n",
    "from scenarios_original import Scenario\n",
    "from sim_wrapper import simWrapper"
   ]
  },
  {
   "cell_type": "code",
   "execution_count": 2,
   "id": "04828fdc",
   "metadata": {
    "tags": []
   },
   "outputs": [],
   "source": [
    "%load_ext autoreload\n",
    "%autoreload 2"
   ]
  },
  {
   "cell_type": "markdown",
   "id": "78b0d0e9",
   "metadata": {},
   "source": [
    "## Plot p_Y and p_Z for various scenarios"
   ]
  },
  {
   "cell_type": "code",
   "execution_count": 3,
   "id": "45508a16",
   "metadata": {
    "tags": []
   },
   "outputs": [],
   "source": [
    "scene_typ = \"nonunique\"\n",
    "method_typ = \"naive_nonunique\"\n",
    "m_lst = np.linspace(-1, 1, 501)\n",
    "sim = simWrapper(scene_typ, method_typ, arggs=\"temp\")\n",
    "p_Y = sim.p_Y\n",
    "EY_bands = np.zeros(501)\n",
    "EZ_bands = np.zeros(501)\n",
    "XX = np.random.uniform(-1, 1, 100000) # uniform\n",
    "for i, m in enumerate(m_lst):\n",
    "    d = lambda x: x>=m\n",
    "    Y_t = p_Y(d(XX), XX)\n",
    "    EY_bands[i] = np.mean(Y_t)\n",
    "\n",
    "for i, m in enumerate(m_lst):\n",
    "    d = lambda x: x>=m\n",
    "    Z_t = sim.p_Z(d(XX), XX)\n",
    "    EZ_bands[i] = np.mean(Z_t)"
   ]
  },
  {
   "cell_type": "code",
   "execution_count": 4,
   "id": "bf978c5e",
   "metadata": {
    "tags": []
   },
   "outputs": [],
   "source": [
    "def mean_func_nonuni(A, X):\n",
    "    return ((X+0.4)*(X<=-0.4)+X*(X>=0))*A\n",
    "\n",
    "def p_Y(A, X, mean_func):\n",
    "    # conditional distribution of Y|A,X\n",
    "    return np.random.normal(loc=mean_func(A, X), scale=0.25)\n",
    "\n",
    "m_lst = np.linspace(-1, 1, 501)\n",
    "EY_bands = np.zeros(501)\n",
    "XX = np.random.uniform(-1, 1, 1000000) # uniform\n",
    "A = np.random.binomial(1, 0.5+0.1*XX)\n",
    "ss = mean_func_nonuni(A, XX)\n",
    "for i, m in enumerate(m_lst):\n",
    "    d = lambda x: x>=m\n",
    "    Y_t = p_Y(d(XX), XX, mean_func_nonuni)\n",
    "    EY_bands[i] = np.mean(Y_t)"
   ]
  },
  {
   "cell_type": "code",
   "execution_count": 5,
   "id": "6c641ff6",
   "metadata": {
    "tags": []
   },
   "outputs": [],
   "source": [
    "scene_typ_lst = [\"nonunique\", \"unique_corr\", \"unique_noncorr\"]\n",
    "method_typ = \"naive_unique\"\n",
    "m_lst = np.linspace(-1, 1, 501)\n",
    "EY_bands = np.zeros([3, 501])\n",
    "EZ_bands = np.zeros([3, 501])\n",
    "XX = np.random.uniform(-1, 1, 100000) # uniform\n",
    "for j, scene_typ in enumerate(scene_typ_lst):\n",
    "    sim = simWrapper(scene_typ, method_typ, arggs=\"temp\")\n",
    "    \n",
    "    p_Y = sim.p_Y\n",
    "    XX = np.random.uniform(-1, 1, 100000) # uniform\n",
    "    for i, m in enumerate(m_lst):\n",
    "        d = lambda x: x>=m\n",
    "        Y_t = p_Y(d(XX), XX)\n",
    "        EY_bands[j,i] = np.mean(Y_t)\n",
    "\n",
    "    for i, m in enumerate(m_lst):\n",
    "        d = lambda x: x>=m\n",
    "        Z_t = sim.p_Z(d(XX), XX)\n",
    "        EZ_bands[j,i] = np.mean(Z_t)\n",
    "    \n",
    "    #EY_bands[j] = sim.EY_bands\n",
    "    # initialize EZ bands\n",
    "#     for i, m in enumerate(m_lst):\n",
    "#         d = lambda x: x>=m\n",
    "#         Z_t = sim.p_Z(d(XX), XX)\n",
    "#         EZ_bands[j,i] = np.mean(Z_t)"
   ]
  },
  {
   "cell_type": "markdown",
   "id": "bef95345",
   "metadata": {},
   "source": [
    "## create facet plot"
   ]
  },
  {
   "cell_type": "code",
   "execution_count": 22,
   "id": "950486da",
   "metadata": {
    "tags": []
   },
   "outputs": [],
   "source": [
    "import seaborn as sns\n",
    "import matplotlib.pyplot as plt\n",
    "import pandas as pd"
   ]
  },
  {
   "cell_type": "code",
   "execution_count": 23,
   "id": "30642a95",
   "metadata": {
    "tags": []
   },
   "outputs": [
    {
     "data": {
      "text/plain": [
       "(3, 501)"
      ]
     },
     "execution_count": 23,
     "metadata": {},
     "output_type": "execute_result"
    }
   ],
   "source": [
    "EZ_bands.shape"
   ]
  },
  {
   "cell_type": "code",
   "execution_count": 24,
   "id": "e22870a9",
   "metadata": {
    "tags": []
   },
   "outputs": [],
   "source": [
    "m_lst_long = np.array([m_lst, m_lst, m_lst]).flatten()"
   ]
  },
  {
   "cell_type": "code",
   "execution_count": 25,
   "id": "c3b1e1e8",
   "metadata": {
    "tags": []
   },
   "outputs": [],
   "source": [
    "dat_array = np.concatenate((m_lst_long.reshape(1, -1), EY_bands.flatten().reshape(1,-1), EZ_bands.flatten().reshape(1,-1)), axis=0)\n",
    "dat_array = dat_array.transpose()"
   ]
  },
  {
   "cell_type": "code",
   "execution_count": 26,
   "id": "78f47b53",
   "metadata": {
    "tags": []
   },
   "outputs": [],
   "source": [
    "df = pd.DataFrame(dat_array, columns = [\"policy\", \"Phi value\", \"Psi value\"])"
   ]
  },
  {
   "cell_type": "code",
   "execution_count": 27,
   "id": "395ea4ed",
   "metadata": {
    "tags": []
   },
   "outputs": [
    {
     "data": {
      "text/html": [
       "<div>\n",
       "<style scoped>\n",
       "    .dataframe tbody tr th:only-of-type {\n",
       "        vertical-align: middle;\n",
       "    }\n",
       "\n",
       "    .dataframe tbody tr th {\n",
       "        vertical-align: top;\n",
       "    }\n",
       "\n",
       "    .dataframe thead th {\n",
       "        text-align: right;\n",
       "    }\n",
       "</style>\n",
       "<table border=\"1\" class=\"dataframe\">\n",
       "  <thead>\n",
       "    <tr style=\"text-align: right;\">\n",
       "      <th></th>\n",
       "      <th>policy</th>\n",
       "      <th>Phi value</th>\n",
       "      <th>Psi value</th>\n",
       "    </tr>\n",
       "  </thead>\n",
       "  <tbody>\n",
       "    <tr>\n",
       "      <th>0</th>\n",
       "      <td>-1.000</td>\n",
       "      <td>0.158814</td>\n",
       "      <td>-0.600104</td>\n",
       "    </tr>\n",
       "    <tr>\n",
       "      <th>1</th>\n",
       "      <td>-0.996</td>\n",
       "      <td>0.158963</td>\n",
       "      <td>-0.598319</td>\n",
       "    </tr>\n",
       "    <tr>\n",
       "      <th>2</th>\n",
       "      <td>-0.992</td>\n",
       "      <td>0.161904</td>\n",
       "      <td>-0.591697</td>\n",
       "    </tr>\n",
       "    <tr>\n",
       "      <th>3</th>\n",
       "      <td>-0.988</td>\n",
       "      <td>0.161962</td>\n",
       "      <td>-0.588094</td>\n",
       "    </tr>\n",
       "    <tr>\n",
       "      <th>4</th>\n",
       "      <td>-0.984</td>\n",
       "      <td>0.164107</td>\n",
       "      <td>-0.585217</td>\n",
       "    </tr>\n",
       "    <tr>\n",
       "      <th>...</th>\n",
       "      <td>...</td>\n",
       "      <td>...</td>\n",
       "      <td>...</td>\n",
       "    </tr>\n",
       "    <tr>\n",
       "      <th>1498</th>\n",
       "      <td>0.984</td>\n",
       "      <td>0.009167</td>\n",
       "      <td>0.013102</td>\n",
       "    </tr>\n",
       "    <tr>\n",
       "      <th>1499</th>\n",
       "      <td>0.988</td>\n",
       "      <td>0.005513</td>\n",
       "      <td>0.010239</td>\n",
       "    </tr>\n",
       "    <tr>\n",
       "      <th>1500</th>\n",
       "      <td>0.992</td>\n",
       "      <td>0.003935</td>\n",
       "      <td>0.007780</td>\n",
       "    </tr>\n",
       "    <tr>\n",
       "      <th>1501</th>\n",
       "      <td>0.996</td>\n",
       "      <td>0.002974</td>\n",
       "      <td>0.003377</td>\n",
       "    </tr>\n",
       "    <tr>\n",
       "      <th>1502</th>\n",
       "      <td>1.000</td>\n",
       "      <td>-0.001418</td>\n",
       "      <td>-0.000265</td>\n",
       "    </tr>\n",
       "  </tbody>\n",
       "</table>\n",
       "<p>1503 rows × 3 columns</p>\n",
       "</div>"
      ],
      "text/plain": [
       "      policy  Phi value  Psi value\n",
       "0     -1.000   0.158814  -0.600104\n",
       "1     -0.996   0.158963  -0.598319\n",
       "2     -0.992   0.161904  -0.591697\n",
       "3     -0.988   0.161962  -0.588094\n",
       "4     -0.984   0.164107  -0.585217\n",
       "...      ...        ...        ...\n",
       "1498   0.984   0.009167   0.013102\n",
       "1499   0.988   0.005513   0.010239\n",
       "1500   0.992   0.003935   0.007780\n",
       "1501   0.996   0.002974   0.003377\n",
       "1502   1.000  -0.001418  -0.000265\n",
       "\n",
       "[1503 rows x 3 columns]"
      ]
     },
     "execution_count": 27,
     "metadata": {},
     "output_type": "execute_result"
    }
   ],
   "source": [
    "df"
   ]
  },
  {
   "cell_type": "code",
   "execution_count": 28,
   "id": "8343b81a",
   "metadata": {
    "tags": []
   },
   "outputs": [],
   "source": [
    "scenarios = np.repeat([\"nonunique\", \"unique non-margin\", \"unique margin\"], 501)\n",
    "df['Scenario'] = scenarios"
   ]
  },
  {
   "cell_type": "code",
   "execution_count": 29,
   "id": "06e251ce",
   "metadata": {
    "scrolled": true,
    "tags": []
   },
   "outputs": [
    {
     "data": {
      "image/png": "[encoded data removed]",
      "text/plain": [
       "<Figure size 829.375x216 with 3 Axes>"
      ]
     },
     "metadata": {
      "needs_background": "light"
     },
     "output_type": "display_data"
    }
   ],
   "source": [
    "g = sns.FacetGrid(df, col=\"Scenario\")\n",
    "g.map(plt.plot, \"policy\", \"Phi value\", color='blue', label='value for primary outcome')\n",
    "g.map(plt.plot, \"policy\", \"Psi value\", color='green', label='value for subsidiary outcome')\n",
    "\n",
    "max_val = df['Phi value'].max()\n",
    "max_cat = df[df['Phi value'] == max_val]['policy'].values[0]\n",
    "# # Annotate max value on each subplot\n",
    "# for ax in g.axes.flat:\n",
    "#     max_height = max([p.get_height() for p in ax.patches])\n",
    "#     for patch in ax.patches:\n",
    "#         if patch.get_height() == max_height:\n",
    "#             ax.plot([patch.get_x()+patch.get_width()/2., patch.get_x()+patch.get_width()/2.], [0, max_height], 'r-')\n",
    "\n",
    "g.set_axis_labels(\"Policy\", \"Value\")\n",
    "#g.fig.suptitle(\"\", y=1.02)\n",
    "g.add_legend()\n",
    "\n",
    "#plt.show()\n",
    "plt.savefig(\"scenarios.pdf\")"
   ]
  },
  {
   "cell_type": "code",
   "execution_count": 17,
   "id": "9a4c94af",
   "metadata": {},
   "outputs": [],
   "source": [
    "scene_typ_lst = [\"nonunique\", \"unique_corr\", \"unique_noncorr\"]\n",
    "method_typ = \"naive_unique\"\n",
    "len_m = 501\n",
    "len_X = 1000\n",
    "s_X = np.zeros([3, len_X])\n",
    "q_X = np.zeros([3, len_X])\n",
    "\n",
    "for j, scene_typ in enumerate(scene_typ_lst):\n",
    "    sim = simWrapper(scene_typ, method_typ, arggs=\"temp\")\n",
    "    \n",
    "    p_Y = sim.mean_func\n",
    "    p_Z = sim.mean_func_Z\n",
    "    XX = np.linspace(-1, 1, len_X) # uniform\n",
    "    Y_vals = np.zeros([len_m, len_X])\n",
    "    Z_vals = np.zeros([len_m, len_X])\n",
    "    q_X[j] = p_Y(1, XX) - p_Y(0, XX)\n",
    "    s_X[j] = p_Z(1, XX) - p_Z(0, XX)"
   ]
  },
  {
   "cell_type": "code",
   "execution_count": 31,
   "id": "f479bc3b",
   "metadata": {},
   "outputs": [
    {
     "data": {
      "image/png": "[encoded data removed]",
      "text/plain": [
       "<Figure size 749.625x216 with 3 Axes>"
      ]
     },
     "metadata": {
      "needs_background": "light"
     },
     "output_type": "display_data"
    }
   ],
   "source": [
    "XX_long = np.array([XX, XX, XX]).flatten()\n",
    "dat_array = np.concatenate((XX_long.reshape(1, -1), s_X.flatten().reshape(1,-1), q_X.flatten().reshape(1,-1)), axis=0)\n",
    "dat_array = dat_array.transpose()\n",
    "df = pd.DataFrame(dat_array, columns = [\"policy\", \"s_X value\", \"q_X value\"])\n",
    "scenarios = np.repeat([\"nonunique\", \"unique non-margin\", \"unique margin\"], len_X)\n",
    "df['Scenario'] = scenarios\n",
    "\n",
    "g = sns.FacetGrid(df, col=\"Scenario\")\n",
    "g.map(plt.plot, \"policy\", \"q_X value\", color='blue', label='value for q_X')\n",
    "g.map(plt.plot, \"policy\", \"s_X value\", color='green', label='value for s_X')\n",
    "\n",
    "max_val = df['s_X value'].max()\n",
    "max_cat = df[df['s_X value'] == max_val]['policy'].values[0]\n",
    "# Annotate max value on each subplot\n",
    "# for ax in g.axes.flat:\n",
    "#     max_height = max([p.get_height() for p in ax.patches])\n",
    "#     for patch in ax.patches:\n",
    "#         if patch.get_height() == max_height:\n",
    "#             ax.plot([patch.get_x()+patch.get_width()/2., patch.get_x()+patch.get_width()/2.], [0, max_height], 'r-')\n",
    "\n",
    "g.set_axis_labels(\"Policy\", \"Value\")\n",
    "#g.fig.suptitle(\"\", y=1.02)\n",
    "g.add_legend()\n",
    "\n",
    "#plt.show()\n",
    "plt.savefig(\"sxqx.pdf\")"
   ]
  },
  {
   "cell_type": "code",
   "execution_count": null,
   "id": "7bb7b71f",
   "metadata": {},
   "outputs": [],
   "source": []
  }
 ],
 "metadata": {
  "kernelspec": {
   "display_name": "Python 3 (ipykernel)",
   "language": "python",
   "name": "python3"
  },
  "language_info": {
   "codemirror_mode": {
    "name": "ipython",
    "version": 3
   },
   "file_extension": ".py",
   "mimetype": "text/x-python",
   "name": "python",
   "nbconvert_exporter": "python",
   "pygments_lexer": "ipython3",
   "version": "3.7.11"
  }
 },
 "nbformat": 4,
 "nbformat_minor": 5
}
